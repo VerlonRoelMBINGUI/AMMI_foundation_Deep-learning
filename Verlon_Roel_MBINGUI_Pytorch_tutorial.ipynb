{
  "nbformat": 4,
  "nbformat_minor": 0,
  "metadata": {
    "colab": {
      "provenance": [],
      "include_colab_link": true
    },
    "kernelspec": {
      "name": "python3",
      "display_name": "Python 3"
    },
    "language_info": {
      "name": "python"
    },
    "accelerator": "GPU",
    "gpuClass": "standard"
  },
  "cells": [
    {
      "cell_type": "markdown",
      "metadata": {
        "id": "view-in-github",
        "colab_type": "text"
      },
      "source": [
        "<a href=\"https://colab.research.google.com/github/VerlonRoelMBINGUI/AMMI_foundation_Deep-learning/blob/main/Verlon_Roel_MBINGUI_Pytorch_tutorial.ipynb\" target=\"_parent\"><img src=\"https://colab.research.google.com/assets/colab-badge.svg\" alt=\"Open In Colab\"/></a>"
      ]
    },
    {
      "cell_type": "markdown",
      "source": [
        "## what is Pytorch\n",
        "\n",
        "![picture](https://cdn.analyticsvidhya.com/wp-content/uploads/2019/09/pytorch.png)\n",
        "\n",
        "PyTorch is a Python-based library used to build neural networks.\n",
        "\n",
        "It provides classes that allow us to easily develop a suite of deep learning models.\n",
        "\n",
        "It gives maximum flexibility and speed."
      ],
      "metadata": {
        "id": "hnZfVGFOPAWD"
      }
    },
    {
      "cell_type": "markdown",
      "source": [
        "## Install pytorch"
      ],
      "metadata": {
        "id": "d_MRnaAiO_Yf"
      }
    },
    {
      "cell_type": "code",
      "execution_count": 1,
      "metadata": {
        "id": "_inaDm29O2Cs"
      },
      "outputs": [],
      "source": [
        "# !conda install pytorch torchvision -c pytorch\n",
        "# # or with GPU\n",
        "# ! conda install pytorch torchvision cudatoolkit=10.1 -c pytorch\n",
        "\n",
        "#https://pytorch.org/"
      ]
    },
    {
      "cell_type": "markdown",
      "source": [
        "###Let's import pytorch and check that it's well installed"
      ],
      "metadata": {
        "id": "ZevvX0TWROTC"
      }
    },
    {
      "cell_type": "code",
      "source": [
        "import torch\n",
        "print(torch.__version__)"
      ],
      "metadata": {
        "colab": {
          "base_uri": "https://localhost:8080/"
        },
        "id": "2kdo2d-DRHEb",
        "outputId": "07cc2b3f-c3a5-46f6-8492-d7def6fab94f"
      },
      "execution_count": 2,
      "outputs": [
        {
          "output_type": "stream",
          "name": "stdout",
          "text": [
            "2.0.0+cu118\n"
          ]
        }
      ]
    },
    {
      "cell_type": "markdown",
      "source": [
        "## Autograd\n",
        "\n",
        "### PyTorch uses a technique called automatic differentiation. It records all the operations that we are performing (computational graph) and replays it backward to compute gradients\n",
        "### The autograd package provides automatic differentiation for all operations on Tensors"
      ],
      "metadata": {
        "id": "5Gfz6GQaeWHR"
      }
    },
    {
      "cell_type": "code",
      "source": [
        "# requires_grad = True -> tracks all operations on the tensor. \n",
        "torch.manual_seed(42)\n",
        "w = torch.randn(3, requires_grad=True)\n",
        "print(w)\n",
        "y = w + 2\n",
        "# y was created as a result of an operation, so it has a grad_fn attribute.\n",
        "# grad_fn: references a Function that has created the Tensor\n",
        "print(y)\n",
        "y.retain_grad()"
      ],
      "metadata": {
        "colab": {
          "base_uri": "https://localhost:8080/"
        },
        "id": "X3Oru6TXd_5h",
        "outputId": "9ced1137-4711-4926-f5f9-4f634f8274ad"
      },
      "execution_count": 3,
      "outputs": [
        {
          "output_type": "stream",
          "name": "stdout",
          "text": [
            "tensor([0.3367, 0.1288, 0.2345], requires_grad=True)\n",
            "tensor([2.3367, 2.1288, 2.2345], grad_fn=<AddBackward0>)\n"
          ]
        }
      ]
    },
    {
      "cell_type": "code",
      "source": [
        "print(y.grad_fn)"
      ],
      "metadata": {
        "colab": {
          "base_uri": "https://localhost:8080/"
        },
        "id": "c-ep7mXOjV7a",
        "outputId": "0ef6ee50-0515-4e63-d395-4cebfc48d536"
      },
      "execution_count": 4,
      "outputs": [
        {
          "output_type": "stream",
          "name": "stdout",
          "text": [
            "<AddBackward0 object at 0x7f04fcacfa90>\n"
          ]
        }
      ]
    },
    {
      "cell_type": "code",
      "source": [
        "z = y * y * 3\n",
        "print(z)\n",
        "h = z.mean()\n",
        "print(h)"
      ],
      "metadata": {
        "colab": {
          "base_uri": "https://localhost:8080/"
        },
        "id": "E9Qg94_HkL5I",
        "outputId": "1b068acb-17e0-4dee-c6bb-1fd5f74d2742"
      },
      "execution_count": 5,
      "outputs": [
        {
          "output_type": "stream",
          "name": "stdout",
          "text": [
            "tensor([16.3804, 13.5955, 14.9785], grad_fn=<MulBackward0>)\n",
            "tensor(14.9848, grad_fn=<MeanBackward0>)\n"
          ]
        }
      ]
    },
    {
      "cell_type": "code",
      "source": [
        "z.retain_grad()"
      ],
      "metadata": {
        "id": "6rfFQMHM9EBn"
      },
      "execution_count": 6,
      "outputs": []
    },
    {
      "cell_type": "markdown",
      "source": [
        "Let's compute the gradients with backpropagation\n",
        "When we finish our computation we can call ***.backward()*** and have all the gradients computed automatically.\n",
        "The gradient for this tensor will be accumulated into .grad attribute.\n",
        "It is the partial derivate of the function w.r.t. the tensor.\n",
        "\n",
        "In summary, torch.autograd is an engine for computing vector-Jacobian product\n",
        "It computes partial derivates while applying the chain rule"
      ],
      "metadata": {
        "id": "CItPQk_xkuwk"
      }
    },
    {
      "cell_type": "code",
      "source": [
        "h.backward()\n",
        "#print(w.grad) # dh/dx"
      ],
      "metadata": {
        "id": "DqOwSvAjkT1d"
      },
      "execution_count": 7,
      "outputs": []
    },
    {
      "cell_type": "markdown",
      "source": [
        "## let's compute the gradient manually\n",
        "\n",
        "$δh/δw  = (δh/δz).(δz/δy).(δy/δw)$\n",
        "\n",
        "$δh/δz = 1/3$\n",
        "\n",
        "$δz/δy = 6y$\n",
        "\n",
        "$δy/δx = 1$\n",
        "\n",
        "$δh/δx = 1/3 * 6y * 1  = 2(w + 2)$"
      ],
      "metadata": {
        "id": "N8nbxK9NnraF"
      }
    },
    {
      "cell_type": "code",
      "source": [
        "2*(w + 2)"
      ],
      "metadata": {
        "colab": {
          "base_uri": "https://localhost:8080/"
        },
        "id": "gFAalYMwlYXw",
        "outputId": "65e4b069-63f2-4d67-fd4b-6fa7effc0441"
      },
      "execution_count": 8,
      "outputs": [
        {
          "output_type": "execute_result",
          "data": {
            "text/plain": [
              "tensor([4.6734, 4.2576, 4.4689], grad_fn=<MulBackward0>)"
            ]
          },
          "metadata": {},
          "execution_count": 8
        }
      ]
    },
    {
      "cell_type": "markdown",
      "source": [
        "### grad w.r.t a non leaf tensor"
      ],
      "metadata": {
        "id": "saJGXCYece-m"
      }
    },
    {
      "cell_type": "code",
      "source": [
        "print(y.grad)"
      ],
      "metadata": {
        "id": "PWPeTNwzclFn",
        "colab": {
          "base_uri": "https://localhost:8080/"
        },
        "outputId": "41e6e81d-99f0-4a9e-e857-796d9611b72a"
      },
      "execution_count": 9,
      "outputs": [
        {
          "output_type": "stream",
          "name": "stdout",
          "text": [
            "tensor([4.6734, 4.2576, 4.4689])\n"
          ]
        }
      ]
    },
    {
      "cell_type": "markdown",
      "source": [
        "## Zeros gradient"
      ],
      "metadata": {
        "id": "0O6hz6V-lJPQ"
      }
    },
    {
      "cell_type": "markdown",
      "source": [
        "backward() accumulates the gradient for this tensor into .grad attribute. We need to be careful during optimization !!! Use .zero_() to empty the gradients before a new optimization step so that the parameter will be updated correctly. Otherwise, the gradient would be a combination of the old gradient, which we have already used to update our model parameters, and the newly-computed gradient. It would therefore point in some other direction than the intended direction towards the minimum "
      ],
      "metadata": {
        "id": "AAS6CL97paCj"
      }
    },
    {
      "cell_type": "code",
      "source": [
        "weights = torch.ones(4, requires_grad=True)\n",
        "\n",
        "for epoch in range(3):\n",
        "    # just a dummy example\n",
        "    model_output = (weights*3).sum()\n",
        "    model_output.backward()\n",
        "    \n",
        "    print(weights.grad)\n",
        "\n",
        "# print(weights)\n",
        "# print(model_output)"
      ],
      "metadata": {
        "colab": {
          "base_uri": "https://localhost:8080/"
        },
        "id": "KO3xwS1udcI9",
        "outputId": "ee981dd6-10be-40ce-b2af-6f5194f67335"
      },
      "execution_count": 10,
      "outputs": [
        {
          "output_type": "stream",
          "name": "stdout",
          "text": [
            "tensor([3., 3., 3., 3.])\n",
            "tensor([6., 6., 6., 6.])\n",
            "tensor([9., 9., 9., 9.])\n"
          ]
        }
      ]
    },
    {
      "cell_type": "code",
      "source": [
        "weights = torch.ones(4, requires_grad=True)\n",
        "\n",
        "for epoch in range(3):\n",
        "    # just a dummy example\n",
        "    model_output = (weights*3).sum()\n",
        "    model_output.backward()\n",
        "    \n",
        "    print(weights.grad)\n",
        "  \n",
        "    # this is important! It affects the final weights & output\n",
        "    weights.grad.zero_()\n",
        "\n",
        "# print(weights)\n",
        "# print(model_output)"
      ],
      "metadata": {
        "colab": {
          "base_uri": "https://localhost:8080/"
        },
        "id": "U5-WyAqbnkX6",
        "outputId": "9719d675-2cc0-4e44-9f42-ab5e00ab3bbb"
      },
      "execution_count": 11,
      "outputs": [
        {
          "output_type": "stream",
          "name": "stdout",
          "text": [
            "tensor([3., 3., 3., 3.])\n",
            "tensor([3., 3., 3., 3.])\n",
            "tensor([3., 3., 3., 3.])\n"
          ]
        }
      ]
    },
    {
      "cell_type": "markdown",
      "source": [
        "## Backpropagation"
      ],
      "metadata": {
        "id": "SlJaQIbiu1OL"
      }
    },
    {
      "cell_type": "code",
      "source": [
        "import torch\n",
        "\n",
        "x = torch.tensor(1.0)\n",
        "y = torch.tensor(2.0)\n",
        "\n",
        "# This is the parameter we want to optimize -> requires_grad=True\n",
        "w = torch.tensor(1.0, requires_grad=True)\n",
        "\n",
        "# forward pass to compute loss\n",
        "y_predicted = w * x\n",
        "\n",
        "loss = (y_predicted - y)**2\n",
        "print(loss)\n",
        "\n",
        "# backward pass to compute gradient dLoss/dw\n",
        "loss.backward()\n",
        "print(w.grad)\n",
        "\n",
        "\n",
        "# update weights, this operation should not be part of the computational graph\n",
        "with torch.no_grad():\n",
        "    w -= 0.01 * w.grad\n",
        "# don't forget to zero the gradients\n",
        "w.grad.zero_()"
      ],
      "metadata": {
        "colab": {
          "base_uri": "https://localhost:8080/"
        },
        "id": "gXpyPij3u50R",
        "outputId": "488a6043-0655-476e-9ee2-1ef154b8832d"
      },
      "execution_count": 12,
      "outputs": [
        {
          "output_type": "stream",
          "name": "stdout",
          "text": [
            "tensor(1., grad_fn=<PowBackward0>)\n",
            "tensor(-2.)\n"
          ]
        },
        {
          "output_type": "execute_result",
          "data": {
            "text/plain": [
              "tensor(0.)"
            ]
          },
          "metadata": {},
          "execution_count": 12
        }
      ]
    },
    {
      "cell_type": "markdown",
      "source": [
        "## Pytorch optim module\n",
        "\n",
        "The Optim module in PyTorch has pre-written codes for most of the optimizers that are used while building a neural network. We just have to import them and then they can be used to build models."
      ],
      "metadata": {
        "id": "valeXz_Bslfh"
      }
    },
    {
      "cell_type": "code",
      "source": [
        "# importing the optim module\n",
        "from torch import optim\n",
        "# sgd\n",
        "## SGD = optim.SGD(model.parameters(), lr=learning_rate)\n",
        "\n",
        "# adam\n",
        "## adam = optim.Adam(model.parameters(), lr=learning_rate)\n",
        "\n",
        "# Optimizer has zero_grad() method\n",
        "# During training:\n",
        "# optimizer.step()\n",
        "# optimizer.zero_grad()"
      ],
      "metadata": {
        "id": "8S5yX5JUqdnF"
      },
      "execution_count": 13,
      "outputs": []
    },
    {
      "cell_type": "markdown",
      "source": [
        "## Torch nn Module\n",
        "\n",
        "It provides an easy and modular way to build and train simple or complex neural networks using Torch:\n",
        "\n",
        "\n",
        "\n",
        "\n",
        "*   Simple layers: nn.Linear\n",
        "*   Convolutional layers: nn.Conv1D, nn.Conv2D, ...\n",
        "*   Pooling layers: nn.MaxPool1d, nn.MaxPool2d, ....\n",
        "*   Criterion: nn.MSELoss, nn.CrossEntropyLoss\n",
        "*   Activation functions:  nn.ReLU, nn.Sigmoid, ...\n",
        "nn.RNN, nn.LSTM\n",
        "*   ....\n",
        "\n",
        "\n",
        "\n",
        "\n",
        "\n",
        "\n"
      ],
      "metadata": {
        "id": "aiijWSXM4dcR"
      }
    },
    {
      "cell_type": "code",
      "source": [
        "import torch.nn as nn\n"
      ],
      "metadata": {
        "id": "OZ3Lj0OAtHW2"
      },
      "execution_count": 14,
      "outputs": []
    },
    {
      "cell_type": "markdown",
      "source": [
        "## Linear regression with pytorch"
      ],
      "metadata": {
        "id": "SzGiW9av55Xq"
      }
    },
    {
      "cell_type": "code",
      "source": [
        "from sklearn import datasets\n",
        "import matplotlib.pyplot as plt\n",
        "import numpy as np"
      ],
      "metadata": {
        "id": "BjjbGCRf4q4G"
      },
      "execution_count": 15,
      "outputs": []
    },
    {
      "cell_type": "markdown",
      "source": [
        "### Prepare data"
      ],
      "metadata": {
        "id": "Gkf-2lzg6cnt"
      }
    },
    {
      "cell_type": "code",
      "source": [
        "X_numpy, y_numpy = datasets.make_regression(n_samples=100, n_features=1, noise=20, random_state=4)\n",
        "\n",
        "# cast to float Tensor\n",
        "X = torch.from_numpy(X_numpy.astype(np.float32))\n",
        "y = torch.from_numpy(y_numpy.astype(np.float32))\n",
        "y = y.view(y.shape[0], 1)\n",
        "\n",
        "n_samples, n_features = X.shape"
      ],
      "metadata": {
        "id": "9Vehiuse6VYE"
      },
      "execution_count": 16,
      "outputs": []
    },
    {
      "cell_type": "code",
      "source": [
        "print(n_samples, n_features)"
      ],
      "metadata": {
        "colab": {
          "base_uri": "https://localhost:8080/"
        },
        "id": "vp5LsUg26gdS",
        "outputId": "3efd65eb-46e0-4251-bab1-b56f02a9f16b"
      },
      "execution_count": 17,
      "outputs": [
        {
          "output_type": "stream",
          "name": "stdout",
          "text": [
            "100 1\n"
          ]
        }
      ]
    },
    {
      "cell_type": "markdown",
      "source": [
        "### Model"
      ],
      "metadata": {
        "id": "NYpipihl7P50"
      }
    },
    {
      "cell_type": "code",
      "source": [
        "#Linear model f = wx + b\n",
        "input_size = n_features\n",
        "output_size = 1\n",
        "model = nn.Linear(input_size, output_size)"
      ],
      "metadata": {
        "id": "w3U9R_ys6uDk"
      },
      "execution_count": 18,
      "outputs": []
    },
    {
      "cell_type": "code",
      "source": [
        "model"
      ],
      "metadata": {
        "colab": {
          "base_uri": "https://localhost:8080/"
        },
        "id": "UGhRht1-Llot",
        "outputId": "884097ed-a609-4c9b-8267-9740fff94d46"
      },
      "execution_count": 19,
      "outputs": [
        {
          "output_type": "execute_result",
          "data": {
            "text/plain": [
              "Linear(in_features=1, out_features=1, bias=True)"
            ]
          },
          "metadata": {},
          "execution_count": 19
        }
      ]
    },
    {
      "cell_type": "code",
      "source": [
        "for name, w in model.named_parameters():\n",
        "  print(name)\n",
        "  print(w)\n"
      ],
      "metadata": {
        "colab": {
          "base_uri": "https://localhost:8080/"
        },
        "id": "RdDY1m1pMIs9",
        "outputId": "7603c577-d098-42bb-8a96-ab86e2cc10fb"
      },
      "execution_count": 20,
      "outputs": [
        {
          "output_type": "stream",
          "name": "stdout",
          "text": [
            "weight\n",
            "Parameter containing:\n",
            "tensor([[0.8815]], requires_grad=True)\n",
            "bias\n",
            "Parameter containing:\n",
            "tensor([-0.7336], requires_grad=True)\n"
          ]
        }
      ]
    },
    {
      "cell_type": "markdown",
      "source": [
        "## Loss and optimizer"
      ],
      "metadata": {
        "id": "f8vqMh1T7cno"
      }
    },
    {
      "cell_type": "code",
      "source": [
        "learning_rate = 0.01\n",
        "\n",
        "criterion = nn.MSELoss()\n",
        "optimizer = torch.optim.SGD(model.parameters(), lr=learning_rate)  "
      ],
      "metadata": {
        "id": "9gIqng_f7VKw"
      },
      "execution_count": 21,
      "outputs": []
    },
    {
      "cell_type": "markdown",
      "source": [
        "## Training"
      ],
      "metadata": {
        "id": "1T5vp2g07q4O"
      }
    },
    {
      "cell_type": "code",
      "source": [
        "num_epochs = 10\n",
        "for epoch in range(num_epochs):\n",
        "    # Forward pass and loss\n",
        "    y_predicted = model(X)\n",
        "\n",
        "    ##compute the loss between your prediction and the true y\n",
        "    loss = criterion(y_predicted, y)\n",
        "    \n",
        "    # Backward pass \n",
        "    loss.backward()\n",
        "\n",
        "    ## update parameters\n",
        "    optimizer.step()\n",
        "    \n",
        "\n",
        "    # zero grad before new step\n",
        "    optimizer.zero_grad()\n",
        "\n",
        "    if (epoch+1) % 10 == 0:\n",
        "        print(f'epoch: {epoch+1}, loss = {loss.item():.4f}')\n",
        "\n",
        "# Plot\n",
        "predicted = model(X).detach().numpy()\n",
        "\n",
        "plt.plot(X_numpy, y_numpy, 'ro')\n",
        "plt.plot(X_numpy, predicted, 'b')\n",
        "plt.show()"
      ],
      "metadata": {
        "colab": {
          "base_uri": "https://localhost:8080/",
          "height": 468
        },
        "id": "zl37Iv237hKa",
        "outputId": "2b46aab6-2a62-492d-f603-7a5ed718c9aa"
      },
      "execution_count": 22,
      "outputs": [
        {
          "output_type": "stream",
          "name": "stdout",
          "text": [
            "epoch: 10, loss = 3972.3162\n"
          ]
        },
        {
          "output_type": "display_data",
          "data": {
            "text/plain": [
              "<Figure size 640x480 with 1 Axes>"
            ],
            "image/png": "[encoded data removed]"
          },
          "metadata": {}
        }
      ]
    },
    {
      "cell_type": "markdown",
      "source": [
        "## Pytorch Dataset\n",
        "\n",
        "PyTorch provides two data primitives: `torch.utils.data.DataLoade`r and `torch.utils.data.Dataset` that allow us to use pre-loaded datasets as well as our own data. Dataset stores the samples and their corresponding labels, and DataLoader wraps an iterable around the Dataset to enable easy access to the samples.\n",
        "\n",
        "PyTorch domain libraries provide a number of pre-loaded datasets (such as FashionMNIST) that subclass torch.utils.data.Dataset and implement functions specific to the particular data. \n",
        "\n",
        "Dataset are accessible through  \n",
        "* TorchVision: for images dataset\n",
        "* TorchText: for text datasets\n",
        "* TorchAudio: for audios dataset\n",
        "\n",
        "\n",
        "Here is an example of how to load the Fashion-MNIST\n",
        "\n",
        "`root` is the path where the train/test data is stored,\n",
        "\n",
        "`train` specifies training or test dataset,\n",
        "\n",
        "`download=True` downloads the data from the internet if it’s not available at root.\n",
        "\n",
        "`transform` and target_transform specify the feature and label transformations (convert data to tensor, normalize data, ...(see documentation))\n",
        "\n",
        "\n"
      ],
      "metadata": {
        "id": "cndwit8l79ww"
      }
    },
    {
      "cell_type": "code",
      "source": [
        "import torch\n",
        "from torchvision import datasets\n",
        "from torch.utils.data import DataLoader\n",
        "from torchvision.transforms import ToTensor\n",
        "import matplotlib.pyplot as plt\n",
        "\n",
        "\n",
        "training_data = datasets.FashionMNIST(\n",
        "    root=\"data\",\n",
        "    train=True,\n",
        "    download=True,\n",
        "    transform=ToTensor()  \n",
        ")\n",
        "\n",
        "test_data = datasets.FashionMNIST(\n",
        "    root=\"data\",\n",
        "    train=False,\n",
        "    download=True,\n",
        "    transform=ToTensor()\n",
        ")"
      ],
      "metadata": {
        "id": "vhU4nmvy8gHq",
        "colab": {
          "base_uri": "https://localhost:8080/"
        },
        "outputId": "e4502b71-dc23-4e09-ac28-a3fc2156a4aa"
      },
      "execution_count": 23,
      "outputs": [
        {
          "output_type": "stream",
          "name": "stdout",
          "text": [
            "Downloading http://fashion-mnist.s3-website.eu-central-1.amazonaws.com/train-images-idx3-ubyte.gz\n",
            "Downloading http://fashion-mnist.s3-website.eu-central-1.amazonaws.com/train-images-idx3-ubyte.gz to data/FashionMNIST/raw/train-images-idx3-ubyte.gz\n"
          ]
        },
        {
          "output_type": "stream",
          "name": "stderr",
          "text": [
            "100%|██████████| 26421880/26421880 [00:01<00:00, 14980818.25it/s]\n"
          ]
        },
        {
          "output_type": "stream",
          "name": "stdout",
          "text": [
            "Extracting data/FashionMNIST/raw/train-images-idx3-ubyte.gz to data/FashionMNIST/raw\n",
            "\n",
            "Downloading http://fashion-mnist.s3-website.eu-central-1.amazonaws.com/train-labels-idx1-ubyte.gz\n",
            "Downloading http://fashion-mnist.s3-website.eu-central-1.amazonaws.com/train-labels-idx1-ubyte.gz to data/FashionMNIST/raw/train-labels-idx1-ubyte.gz\n"
          ]
        },
        {
          "output_type": "stream",
          "name": "stderr",
          "text": [
            "100%|██████████| 29515/29515 [00:00<00:00, 270437.40it/s]\n"
          ]
        },
        {
          "output_type": "stream",
          "name": "stdout",
          "text": [
            "Extracting data/FashionMNIST/raw/train-labels-idx1-ubyte.gz to data/FashionMNIST/raw\n",
            "\n",
            "Downloading http://fashion-mnist.s3-website.eu-central-1.amazonaws.com/t10k-images-idx3-ubyte.gz\n",
            "Downloading http://fashion-mnist.s3-website.eu-central-1.amazonaws.com/t10k-images-idx3-ubyte.gz to data/FashionMNIST/raw/t10k-images-idx3-ubyte.gz\n"
          ]
        },
        {
          "output_type": "stream",
          "name": "stderr",
          "text": [
            "100%|██████████| 4422102/4422102 [00:00<00:00, 5118359.56it/s]\n"
          ]
        },
        {
          "output_type": "stream",
          "name": "stdout",
          "text": [
            "Extracting data/FashionMNIST/raw/t10k-images-idx3-ubyte.gz to data/FashionMNIST/raw\n",
            "\n",
            "Downloading http://fashion-mnist.s3-website.eu-central-1.amazonaws.com/t10k-labels-idx1-ubyte.gz\n",
            "Downloading http://fashion-mnist.s3-website.eu-central-1.amazonaws.com/t10k-labels-idx1-ubyte.gz to data/FashionMNIST/raw/t10k-labels-idx1-ubyte.gz\n"
          ]
        },
        {
          "output_type": "stream",
          "name": "stderr",
          "text": [
            "100%|██████████| 5148/5148 [00:00<00:00, 17540436.22it/s]\n"
          ]
        },
        {
          "output_type": "stream",
          "name": "stdout",
          "text": [
            "Extracting data/FashionMNIST/raw/t10k-labels-idx1-ubyte.gz to data/FashionMNIST/raw\n",
            "\n"
          ]
        }
      ]
    },
    {
      "cell_type": "code",
      "source": [
        "len(training_data)"
      ],
      "metadata": {
        "colab": {
          "base_uri": "https://localhost:8080/"
        },
        "id": "K7SVN5YUzuOB",
        "outputId": "0861451e-5fc3-49d2-ca01-86ef49dbd34a"
      },
      "execution_count": 24,
      "outputs": [
        {
          "output_type": "execute_result",
          "data": {
            "text/plain": [
              "60000"
            ]
          },
          "metadata": {},
          "execution_count": 24
        }
      ]
    },
    {
      "cell_type": "code",
      "source": [
        "train_dataloader = DataLoader(training_data, batch_size=16, shuffle=False)\n",
        "for image, label in train_dataloader:\n",
        "  print(image.shape)\n",
        "  print(label)\n",
        "  break"
      ],
      "metadata": {
        "colab": {
          "base_uri": "https://localhost:8080/"
        },
        "id": "iIhQzUV08gAY",
        "outputId": "01d5f2ec-c2ca-46a4-823e-c2944cd51b3c"
      },
      "execution_count": 25,
      "outputs": [
        {
          "output_type": "stream",
          "name": "stdout",
          "text": [
            "torch.Size([16, 1, 28, 28])\n",
            "tensor([9, 0, 0, 3, 0, 2, 7, 2, 5, 5, 0, 9, 5, 5, 7, 9])\n"
          ]
        }
      ]
    },
    {
      "cell_type": "code",
      "source": [
        "len(train_dataloader)"
      ],
      "metadata": {
        "colab": {
          "base_uri": "https://localhost:8080/"
        },
        "id": "eX4P5S7ZzbJN",
        "outputId": "ccf08cb2-7bab-41d0-de20-86e4a425d4c1"
      },
      "execution_count": 26,
      "outputs": [
        {
          "output_type": "execute_result",
          "data": {
            "text/plain": [
              "3750"
            ]
          },
          "metadata": {},
          "execution_count": 26
        }
      ]
    },
    {
      "cell_type": "markdown",
      "source": [
        "## Creating a Custom Dataset for your files\n",
        "\n",
        "A custom Dataset class must implement three functions: `__init__`, `__len__`, and `__getitem__`. "
      ],
      "metadata": {
        "id": "xjcAjd5vCrO_"
      }
    },
    {
      "cell_type": "code",
      "source": [
        "from google.colab import drive\n",
        "drive.mount(\"/content/drive\")"
      ],
      "metadata": {
        "colab": {
          "base_uri": "https://localhost:8080/"
        },
        "id": "IBEPF6tjW4-B",
        "outputId": "09ca801a-e86e-4992-f6f3-b762f3b902b8"
      },
      "execution_count": 27,
      "outputs": [
        {
          "output_type": "stream",
          "name": "stdout",
          "text": [
            "Mounted at /content/drive\n"
          ]
        }
      ]
    },
    {
      "cell_type": "code",
      "source": [],
      "metadata": {
        "id": "rRyxUr-l1LL7"
      },
      "execution_count": 27,
      "outputs": []
    },
    {
      "cell_type": "code",
      "source": [
        "from torch.utils.data import Dataset\n",
        "import pandas as pd\n",
        "\n",
        "class WineDataset(Dataset):\n",
        "    def __init__(self):\n",
        "        # Initialize data, download, etc.\n",
        "        # read with numpy or pandas\n",
        "        xy = pd.read_csv('/content/drive/MyDrive/wine.csv')\n",
        "        \n",
        "        xy = xy.to_numpy()\n",
        "        self.n_samples = xy.shape[0]\n",
        "\n",
        "        # here the first column is the class label, the rest are the features\n",
        "        self.x_data = torch.from_numpy(xy[:, 1:]) # size [n_samples, n_features]\n",
        "        self.y_data = torch.from_numpy(xy[:, [0]]) # size [n_samples, 1]\n",
        "\n",
        "    # support indexing such that dataset[i] can be used to get i-th sample\n",
        "    def __getitem__(self, index):\n",
        "        return self.x_data[index], self.y_data[index]\n",
        "\n",
        "    # we can call len(dataset) to return the size\n",
        "    def __len__(self):\n",
        "        return self.n_samples"
      ],
      "metadata": {
        "id": "alAzIhcS8f7T"
      },
      "execution_count": 28,
      "outputs": []
    },
    {
      "cell_type": "code",
      "source": [
        "# create dataset\n",
        "dataset = WineDataset()\n",
        "\n",
        "# get first sample and unpack\n",
        "first_data = dataset[0]\n",
        "features, labels = first_data\n",
        "print(features, labels)\n",
        "\n",
        "print(features.shape)"
      ],
      "metadata": {
        "colab": {
          "base_uri": "https://localhost:8080/"
        },
        "id": "GaRC-t1z8fqy",
        "outputId": "9b8c79c5-8903-4a89-a330-6abfba59f1ab"
      },
      "execution_count": 29,
      "outputs": [
        {
          "output_type": "stream",
          "name": "stdout",
          "text": [
            "tensor([1.4230e+01, 1.7100e+00, 2.4300e+00, 1.5600e+01, 1.2700e+02, 2.8000e+00,\n",
            "        3.0600e+00, 2.8000e-01, 2.2900e+00, 5.6400e+00, 1.0400e+00, 3.9200e+00,\n",
            "        1.0650e+03], dtype=torch.float64) tensor([1.], dtype=torch.float64)\n",
            "torch.Size([13])\n"
          ]
        }
      ]
    },
    {
      "cell_type": "markdown",
      "source": [
        "## Using pytorch dataset transform on custom dataset"
      ],
      "metadata": {
        "id": "_AloVEw_-Cjc"
      }
    },
    {
      "cell_type": "code",
      "source": [
        "class WineDataset1(Dataset):\n",
        "\n",
        "    def __init__(self, transform=None):\n",
        "        # Initialize data, download, etc.\n",
        "        # read with numpy or pandas\n",
        "        xy = pd.read_csv('/content/drive/MyDrive/wine.csv')\n",
        "        \n",
        "        xy = xy.to_numpy()\n",
        "        self.n_samples = xy.shape[0]\n",
        "\n",
        "        # here the first column is the class label, the rest are the features\n",
        "        self.x_data = xy[:, 1:] # size [n_samples, n_features]\n",
        "        self.y_data = xy[:, [0]] # size [n_samples, 1]\n",
        "        self.transform = transform\n",
        "\n",
        "    # support indexing such that dataset[i] can be used to get i-th sample\n",
        "    def __getitem__(self, index):\n",
        "        sample =  self.x_data[index], self.y_data[index]\n",
        "        if self.transform:\n",
        "          sample = self.transform(sample)\n",
        "        return sample\n",
        "\n",
        "    # we can call len(dataset) to return the size\n",
        "    def __len__(self):\n",
        "        return self.n_samples\n",
        "\n",
        "class ToTensor:\n",
        "  def __call__(self, sample):\n",
        "    inputs, target = sample\n",
        "    return torch.from_numpy(inputs), torch.from_numpy(target)\n"
      ],
      "metadata": {
        "id": "BqZieX34-I2R"
      },
      "execution_count": 30,
      "outputs": []
    },
    {
      "cell_type": "code",
      "source": [
        "# create dataset\n",
        "dataset1 = WineDataset1(transform=ToTensor())\n",
        "\n",
        "# get first sample and unpack\n",
        "first_data = dataset1[0]\n",
        "features, labels = first_data\n",
        "print(features, labels)\n",
        "\n",
        "print(features.shape)"
      ],
      "metadata": {
        "colab": {
          "base_uri": "https://localhost:8080/"
        },
        "id": "_QgOsFxx_F7o",
        "outputId": "5b5a304e-79ec-4e3b-be2f-743f42de7bbc"
      },
      "execution_count": 31,
      "outputs": [
        {
          "output_type": "stream",
          "name": "stdout",
          "text": [
            "tensor([1.4230e+01, 1.7100e+00, 2.4300e+00, 1.5600e+01, 1.2700e+02, 2.8000e+00,\n",
            "        3.0600e+00, 2.8000e-01, 2.2900e+00, 5.6400e+00, 1.0400e+00, 3.9200e+00,\n",
            "        1.0650e+03], dtype=torch.float64) tensor([1.], dtype=torch.float64)\n",
            "torch.Size([13])\n"
          ]
        }
      ]
    },
    {
      "cell_type": "markdown",
      "source": [
        "## Create a Dataloader for our custum dataset"
      ],
      "metadata": {
        "id": "HyJjntGWADZr"
      }
    },
    {
      "cell_type": "code",
      "source": [
        "# Load whole dataset with DataLoader\n",
        "# shuffle: shuffle data, good for training\n",
        "train_loader = DataLoader(dataset=dataset1,\n",
        "                          batch_size=4,\n",
        "                          shuffle=True)\n",
        "\n",
        "# convert to an iterator and look at one random sample\n",
        "dataiter = iter(train_loader)\n",
        "data = next(dataiter)\n",
        "features, labels = data\n",
        "print(features, labels)\n",
        "print(features.shape)"
      ],
      "metadata": {
        "colab": {
          "base_uri": "https://localhost:8080/"
        },
        "id": "HMqU9t2p8fnV",
        "outputId": "28eaaa42-dcb3-4670-c456-d1ab007a80ff"
      },
      "execution_count": 32,
      "outputs": [
        {
          "output_type": "stream",
          "name": "stdout",
          "text": [
            "tensor([[1.4160e+01, 2.5100e+00, 2.4800e+00, 2.0000e+01, 9.1000e+01, 1.6800e+00,\n",
            "         7.0000e-01, 4.4000e-01, 1.2400e+00, 9.7000e+00, 6.2000e-01, 1.7100e+00,\n",
            "         6.6000e+02],\n",
            "        [1.4390e+01, 1.8700e+00, 2.4500e+00, 1.4600e+01, 9.6000e+01, 2.5000e+00,\n",
            "         2.5200e+00, 3.0000e-01, 1.9800e+00, 5.2500e+00, 1.0200e+00, 3.5800e+00,\n",
            "         1.2900e+03],\n",
            "        [1.4830e+01, 1.6400e+00, 2.1700e+00, 1.4000e+01, 9.7000e+01, 2.8000e+00,\n",
            "         2.9800e+00, 2.9000e-01, 1.9800e+00, 5.2000e+00, 1.0800e+00, 2.8500e+00,\n",
            "         1.0450e+03],\n",
            "        [1.2160e+01, 1.6100e+00, 2.3100e+00, 2.2800e+01, 9.0000e+01, 1.7800e+00,\n",
            "         1.6900e+00, 4.3000e-01, 1.5600e+00, 2.4500e+00, 1.3300e+00, 2.2600e+00,\n",
            "         4.9500e+02]], dtype=torch.float64) tensor([[3.],\n",
            "        [1.],\n",
            "        [1.],\n",
            "        [2.]], dtype=torch.float64)\n",
            "torch.Size([4, 13])\n"
          ]
        }
      ]
    },
    {
      "cell_type": "markdown",
      "source": [
        "## Let's see how to train with the dataloader"
      ],
      "metadata": {
        "id": "pYWQdtA4FYpR"
      }
    },
    {
      "cell_type": "code",
      "source": [
        "# Dummy Training loop\n",
        "num_epochs = 2\n",
        "n_iterations = 10\n",
        "for epoch in range(num_epochs):\n",
        "    for i, (inputs, labels) in enumerate(train_loader):\n",
        "        \n",
        "        # Run your training process\n",
        "        if (i+1) % 5 == 0:\n",
        "            print(f'Epoch: {epoch+1}/{num_epochs}, Step {i+1}/{n_iterations}| Inputs {inputs.shape} | Labels {labels.shape}')"
      ],
      "metadata": {
        "colab": {
          "base_uri": "https://localhost:8080/"
        },
        "id": "7_crjXXu8fig",
        "outputId": "9d7ff019-7182-4245-f08c-e1d796db1b8d"
      },
      "execution_count": 33,
      "outputs": [
        {
          "output_type": "stream",
          "name": "stdout",
          "text": [
            "Epoch: 1/2, Step 5/10| Inputs torch.Size([4, 13]) | Labels torch.Size([4, 1])\n",
            "Epoch: 1/2, Step 10/10| Inputs torch.Size([4, 13]) | Labels torch.Size([4, 1])\n",
            "Epoch: 1/2, Step 15/10| Inputs torch.Size([4, 13]) | Labels torch.Size([4, 1])\n",
            "Epoch: 1/2, Step 20/10| Inputs torch.Size([4, 13]) | Labels torch.Size([4, 1])\n",
            "Epoch: 1/2, Step 25/10| Inputs torch.Size([4, 13]) | Labels torch.Size([4, 1])\n",
            "Epoch: 1/2, Step 30/10| Inputs torch.Size([4, 13]) | Labels torch.Size([4, 1])\n",
            "Epoch: 1/2, Step 35/10| Inputs torch.Size([4, 13]) | Labels torch.Size([4, 1])\n",
            "Epoch: 1/2, Step 40/10| Inputs torch.Size([4, 13]) | Labels torch.Size([4, 1])\n",
            "Epoch: 1/2, Step 45/10| Inputs torch.Size([2, 13]) | Labels torch.Size([2, 1])\n",
            "Epoch: 2/2, Step 5/10| Inputs torch.Size([4, 13]) | Labels torch.Size([4, 1])\n",
            "Epoch: 2/2, Step 10/10| Inputs torch.Size([4, 13]) | Labels torch.Size([4, 1])\n",
            "Epoch: 2/2, Step 15/10| Inputs torch.Size([4, 13]) | Labels torch.Size([4, 1])\n",
            "Epoch: 2/2, Step 20/10| Inputs torch.Size([4, 13]) | Labels torch.Size([4, 1])\n",
            "Epoch: 2/2, Step 25/10| Inputs torch.Size([4, 13]) | Labels torch.Size([4, 1])\n",
            "Epoch: 2/2, Step 30/10| Inputs torch.Size([4, 13]) | Labels torch.Size([4, 1])\n",
            "Epoch: 2/2, Step 35/10| Inputs torch.Size([4, 13]) | Labels torch.Size([4, 1])\n",
            "Epoch: 2/2, Step 40/10| Inputs torch.Size([4, 13]) | Labels torch.Size([4, 1])\n",
            "Epoch: 2/2, Step 45/10| Inputs torch.Size([2, 13]) | Labels torch.Size([2, 1])\n"
          ]
        }
      ]
    },
    {
      "cell_type": "markdown",
      "source": [
        "## Activation functions"
      ],
      "metadata": {
        "id": "XPNNUPz98BMj"
      }
    },
    {
      "cell_type": "code",
      "source": [
        "import torch\n",
        "import torch.nn as nn\n",
        "import torch.nn.functional as F\n",
        "\n",
        "x = torch.tensor([-1.0, 1.0, 2.0, 3.0])"
      ],
      "metadata": {
        "id": "vkS1AGFJ8iWm"
      },
      "execution_count": 34,
      "outputs": []
    },
    {
      "cell_type": "markdown",
      "source": [
        "## Sigmoid"
      ],
      "metadata": {
        "id": "HyGosyvqH4Ju"
      }
    },
    {
      "cell_type": "code",
      "source": [
        "output = torch.sigmoid(x)\n",
        "print(output)\n",
        "s = nn.Sigmoid()\n",
        "output = s(x)\n",
        "print(output)"
      ],
      "metadata": {
        "colab": {
          "base_uri": "https://localhost:8080/"
        },
        "id": "xTooUT_O8iDi",
        "outputId": "a390dc72-f002-471a-ed13-2133fea5a46b"
      },
      "execution_count": 35,
      "outputs": [
        {
          "output_type": "stream",
          "name": "stdout",
          "text": [
            "tensor([0.2689, 0.7311, 0.8808, 0.9526])\n",
            "tensor([0.2689, 0.7311, 0.8808, 0.9526])\n"
          ]
        }
      ]
    },
    {
      "cell_type": "markdown",
      "source": [
        "## Tanh"
      ],
      "metadata": {
        "id": "nMNTcEdoIAG8"
      }
    },
    {
      "cell_type": "code",
      "source": [
        "output = torch.tanh(x)\n",
        "print(output)\n",
        "t = nn.Tanh()\n",
        "output = t(x)\n",
        "print(output)"
      ],
      "metadata": {
        "colab": {
          "base_uri": "https://localhost:8080/"
        },
        "id": "UWAUCMYs8h8I",
        "outputId": "933c6a49-a70a-4742-cd0f-1688a0052339"
      },
      "execution_count": 36,
      "outputs": [
        {
          "output_type": "stream",
          "name": "stdout",
          "text": [
            "tensor([-0.7616,  0.7616,  0.9640,  0.9951])\n",
            "tensor([-0.7616,  0.7616,  0.9640,  0.9951])\n"
          ]
        }
      ]
    },
    {
      "cell_type": "markdown",
      "source": [
        "## Relu"
      ],
      "metadata": {
        "id": "DXLXgwqPIIWh"
      }
    },
    {
      "cell_type": "code",
      "source": [
        "output = torch.relu(x)\n",
        "print(output)\n",
        "relu = nn.ReLU()\n",
        "output = relu(x)\n",
        "print(output)"
      ],
      "metadata": {
        "colab": {
          "base_uri": "https://localhost:8080/"
        },
        "id": "jlLEFTbvIK8S",
        "outputId": "54b532b2-b64a-43e6-b5d6-c833ff878b45"
      },
      "execution_count": 37,
      "outputs": [
        {
          "output_type": "stream",
          "name": "stdout",
          "text": [
            "tensor([0., 1., 2., 3.])\n",
            "tensor([0., 1., 2., 3.])\n"
          ]
        }
      ]
    },
    {
      "cell_type": "markdown",
      "source": [
        "## leaky relu"
      ],
      "metadata": {
        "id": "tG4ic0eCIQRM"
      }
    },
    {
      "cell_type": "code",
      "source": [
        "\n",
        "output = F.leaky_relu(x)\n",
        "print(output)\n",
        "lrelu = nn.LeakyReLU()\n",
        "output = lrelu(x)\n",
        "print(output)"
      ],
      "metadata": {
        "colab": {
          "base_uri": "https://localhost:8080/"
        },
        "id": "DwcEErxUIOF-",
        "outputId": "9321ccb6-bf13-46b9-d98e-c59be58feb0c"
      },
      "execution_count": 38,
      "outputs": [
        {
          "output_type": "stream",
          "name": "stdout",
          "text": [
            "tensor([-0.0100,  1.0000,  2.0000,  3.0000])\n",
            "tensor([-0.0100,  1.0000,  2.0000,  3.0000])\n"
          ]
        }
      ]
    },
    {
      "cell_type": "markdown",
      "source": [
        "#softmax"
      ],
      "metadata": {
        "id": "LyUf339BHwSZ"
      }
    },
    {
      "cell_type": "code",
      "source": [
        "output = torch.softmax(x, dim=0)\n",
        "print(output)\n",
        "sm = nn.Softmax(dim=0)\n",
        "output = sm(x)\n",
        "print(output)"
      ],
      "metadata": {
        "colab": {
          "base_uri": "https://localhost:8080/"
        },
        "id": "cJhC_Lvm8iPF",
        "outputId": "0b29c851-397d-4174-f46e-b401c8718519"
      },
      "execution_count": 39,
      "outputs": [
        {
          "output_type": "stream",
          "name": "stdout",
          "text": [
            "tensor([0.0120, 0.0889, 0.2418, 0.6572])\n",
            "tensor([0.0120, 0.0889, 0.2418, 0.6572])\n"
          ]
        }
      ]
    },
    {
      "cell_type": "markdown",
      "source": [
        "## Feedforward network"
      ],
      "metadata": {
        "id": "cJtgNdkz8XFw"
      }
    },
    {
      "cell_type": "code",
      "source": [
        "import torch\n",
        "import torch.nn as nn\n",
        "import torchvision\n",
        "import torchvision.transforms as transforms\n",
        "import matplotlib.pyplot as plt\n",
        "\n",
        "# Device configuration\n",
        "device = torch.device('cuda' if torch.cuda.is_available() else 'cpu')\n",
        "\n",
        "\n"
      ],
      "metadata": {
        "id": "tFlWUr1p7t7y"
      },
      "execution_count": 40,
      "outputs": []
    },
    {
      "cell_type": "markdown",
      "source": [
        "## Load MNIST dataset from torchvision\n"
      ],
      "metadata": {
        "id": "n-wxOY2BJHz4"
      }
    },
    {
      "cell_type": "code",
      "source": [
        "# MNIST dataset \n",
        "batch_size = 16\n",
        "train_dataset = torchvision.datasets.MNIST(root='./data', \n",
        "                                           train=True, \n",
        "                                           transform=transforms.ToTensor(),  \n",
        "                                           download=True)\n",
        "\n",
        "test_dataset = torchvision.datasets.MNIST(root='./data', \n",
        "                                          train=False, \n",
        "                                          transform=transforms.ToTensor())\n",
        "\n",
        "# Data loader\n",
        "train_loader = torch.utils.data.DataLoader(dataset=train_dataset, \n",
        "                                           batch_size=batch_size, \n",
        "                                           shuffle=True)\n",
        "\n",
        "test_loader = torch.utils.data.DataLoader(dataset=test_dataset, \n",
        "                                          batch_size=batch_size, \n",
        "                                          shuffle=False)\n",
        "\n",
        "examples = iter(test_loader)\n",
        "example_data, example_targets = next(examples)\n",
        "print(example_data.shape)\n",
        "print(example_targets)"
      ],
      "metadata": {
        "colab": {
          "base_uri": "https://localhost:8080/"
        },
        "id": "JuDIMWKWJC6O",
        "outputId": "243bbe39-6af9-47e6-91ed-5aaf886779f1"
      },
      "execution_count": 41,
      "outputs": [
        {
          "output_type": "stream",
          "name": "stdout",
          "text": [
            "Downloading http://yann.lecun.com/exdb/mnist/train-images-idx3-ubyte.gz\n",
            "Downloading http://yann.lecun.com/exdb/mnist/train-images-idx3-ubyte.gz to ./data/MNIST/raw/train-images-idx3-ubyte.gz\n"
          ]
        },
        {
          "output_type": "stream",
          "name": "stderr",
          "text": [
            "100%|██████████| 9912422/9912422 [00:00<00:00, 101628500.09it/s]"
          ]
        },
        {
          "output_type": "stream",
          "name": "stdout",
          "text": [
            "Extracting ./data/MNIST/raw/train-images-idx3-ubyte.gz to ./data/MNIST/raw\n"
          ]
        },
        {
          "output_type": "stream",
          "name": "stderr",
          "text": [
            "\n"
          ]
        },
        {
          "output_type": "stream",
          "name": "stdout",
          "text": [
            "\n",
            "Downloading http://yann.lecun.com/exdb/mnist/train-labels-idx1-ubyte.gz\n",
            "Downloading http://yann.lecun.com/exdb/mnist/train-labels-idx1-ubyte.gz to ./data/MNIST/raw/train-labels-idx1-ubyte.gz\n"
          ]
        },
        {
          "output_type": "stream",
          "name": "stderr",
          "text": [
            "100%|██████████| 28881/28881 [00:00<00:00, 31471991.12it/s]\n"
          ]
        },
        {
          "output_type": "stream",
          "name": "stdout",
          "text": [
            "Extracting ./data/MNIST/raw/train-labels-idx1-ubyte.gz to ./data/MNIST/raw\n",
            "\n",
            "Downloading http://yann.lecun.com/exdb/mnist/t10k-images-idx3-ubyte.gz\n",
            "Downloading http://yann.lecun.com/exdb/mnist/t10k-images-idx3-ubyte.gz to ./data/MNIST/raw/t10k-images-idx3-ubyte.gz\n"
          ]
        },
        {
          "output_type": "stream",
          "name": "stderr",
          "text": [
            "100%|██████████| 1648877/1648877 [00:00<00:00, 25168922.65it/s]\n"
          ]
        },
        {
          "output_type": "stream",
          "name": "stdout",
          "text": [
            "Extracting ./data/MNIST/raw/t10k-images-idx3-ubyte.gz to ./data/MNIST/raw\n",
            "\n",
            "Downloading http://yann.lecun.com/exdb/mnist/t10k-labels-idx1-ubyte.gz\n",
            "Downloading http://yann.lecun.com/exdb/mnist/t10k-labels-idx1-ubyte.gz to ./data/MNIST/raw/t10k-labels-idx1-ubyte.gz\n"
          ]
        },
        {
          "output_type": "stream",
          "name": "stderr",
          "text": [
            "100%|██████████| 4542/4542 [00:00<00:00, 14710833.03it/s]\n"
          ]
        },
        {
          "output_type": "stream",
          "name": "stdout",
          "text": [
            "Extracting ./data/MNIST/raw/t10k-labels-idx1-ubyte.gz to ./data/MNIST/raw\n",
            "\n",
            "torch.Size([16, 1, 28, 28])\n",
            "tensor([7, 2, 1, 0, 4, 1, 4, 9, 5, 9, 0, 6, 9, 0, 1, 5])\n"
          ]
        }
      ]
    },
    {
      "cell_type": "code",
      "source": [
        "for i in range(6):\n",
        "    plt.subplot(2,3,i+1)\n",
        "    plt.imshow(example_data[i][0], cmap='gray')\n",
        "plt.show()"
      ],
      "metadata": {
        "colab": {
          "base_uri": "https://localhost:8080/",
          "height": 432
        },
        "id": "S3BRg1caJYgM",
        "outputId": "9e63270e-e1f1-43b9-a5b8-ea7f43e59c91"
      },
      "execution_count": 42,
      "outputs": [
        {
          "output_type": "display_data",
          "data": {
            "text/plain": [
              "<Figure size 640x480 with 6 Axes>"
            ],
            "image/png": "[encoded data removed]"
          },
          "metadata": {}
        }
      ]
    },
    {
      "cell_type": "markdown",
      "source": [
        "## Define the Model using torch nn Module"
      ],
      "metadata": {
        "id": "-WsYUsX7Jh3n"
      }
    },
    {
      "cell_type": "code",
      "source": [
        "# Fully connected neural network with one hidden layer\n",
        "class NeuralNet(nn.Module):\n",
        "    def __init__(self, input_size, hidden_size, num_classes):\n",
        "        super(NeuralNet, self).__init__()\n",
        "        self.input_size = input_size\n",
        "        self.hidden_size = hidden_size\n",
        "        self.num_classes = num_classes\n",
        "        ## add a linear layer\n",
        "        self.l1 = nn.Linear(self.input_size,self.hidden_size )\n",
        "\n",
        "        ## add relu activation\n",
        "        self.relu = nn.ReLU()\n",
        "\n",
        "        ## add linear layer\n",
        "        self.l2 = nn.Linear(self.hidden_size ,self.num_classes)\n",
        "    \n",
        "    def forward(self, x):\n",
        "        ## fit the data x to the first layer\n",
        "        out = self.l1(x)\n",
        "\n",
        "        ## apply non linearity to the output of the first layer\n",
        "        out = self.relu(out)\n",
        "\n",
        "        ## pass the output to the last layer\n",
        "        out = self.l2(out)\n",
        "        # no activation and no softmax at the end\n",
        "        return out"
      ],
      "metadata": {
        "id": "010CHXZOJd1p"
      },
      "execution_count": 43,
      "outputs": []
    },
    {
      "cell_type": "markdown",
      "source": [
        "## Set hyper-parameters"
      ],
      "metadata": {
        "id": "wY-wRx-8RSDj"
      }
    },
    {
      "cell_type": "code",
      "source": [
        "# Hyper-parameters \n",
        "input_size = 784 # 28x28\n",
        "hidden_size = 500 \n",
        "num_classes = 10\n",
        "num_epochs = 2\n",
        "batch_size = 16\n",
        "learning_rate = 0.001"
      ],
      "metadata": {
        "id": "JH5PhbVrRQ63"
      },
      "execution_count": 44,
      "outputs": []
    },
    {
      "cell_type": "code",
      "source": [
        "model = NeuralNet(input_size, hidden_size, num_classes).to(device)\n",
        "\n",
        "# Loss and optimizer\n",
        "criterion = nn.CrossEntropyLoss()\n",
        "optimizer = torch.optim.Adam(model.parameters(), lr=learning_rate)  "
      ],
      "metadata": {
        "id": "nv-hPXBqJnP_"
      },
      "execution_count": 45,
      "outputs": []
    },
    {
      "cell_type": "markdown",
      "source": [
        "## Train model"
      ],
      "metadata": {
        "id": "RuJQTQz2JvFB"
      }
    },
    {
      "cell_type": "code",
      "source": [
        "for epoch in range(num_epochs):\n",
        "#   if os.path.exists(\"model_weights.pth\"):\n",
        "    # model.load_state_dict(torch.load('model_weights.pth'))\n",
        "  for i, (images, labels) in enumerate(train_loader):  \n",
        "      # origin shape: [16, 1, 28, 28]\n",
        "      # resized: [16, 784]\n",
        "      images = images.reshape(-1, 28*28).to(device)\n",
        "      labels = labels.to(device)\n",
        "      \n",
        "      # Forward pass\n",
        "      outputs = model(images)\n",
        "\n",
        "      ## compute the loss between output and labels\n",
        "      loss = criterion(outputs, labels)\n",
        "      \n",
        "      # Backward pass\n",
        "      loss.backward()\n",
        "    \n",
        "\n",
        "      ## update parameters\n",
        "      optimizer.step()\n",
        "      \n",
        "\n",
        "      ## zeros the gradient\n",
        "      optimizer.zero_grad()\n",
        "      \n",
        "      if (i+1) % 100 == 0:\n",
        "          print (f'Epoch [{epoch+1}/{num_epochs}], Loss: {loss.item():.4f}')\n",
        "  "
      ],
      "metadata": {
        "colab": {
          "base_uri": "https://localhost:8080/"
        },
        "id": "B9p3FM_AJuIZ",
        "outputId": "27499887-6426-4b69-be1b-091be0fa938c"
      },
      "execution_count": 46,
      "outputs": [
        {
          "output_type": "stream",
          "name": "stdout",
          "text": [
            "Epoch [1/2], Loss: 0.5345\n",
            "Epoch [1/2], Loss: 0.2177\n",
            "Epoch [1/2], Loss: 0.0851\n",
            "Epoch [1/2], Loss: 0.1398\n",
            "Epoch [1/2], Loss: 0.2222\n",
            "Epoch [1/2], Loss: 0.1905\n",
            "Epoch [1/2], Loss: 0.2100\n",
            "Epoch [1/2], Loss: 0.3135\n",
            "Epoch [1/2], Loss: 0.0910\n",
            "Epoch [1/2], Loss: 0.2005\n",
            "Epoch [1/2], Loss: 0.0334\n",
            "Epoch [1/2], Loss: 0.0557\n",
            "Epoch [1/2], Loss: 0.0075\n",
            "Epoch [1/2], Loss: 0.1065\n",
            "Epoch [1/2], Loss: 0.2470\n",
            "Epoch [1/2], Loss: 0.1921\n",
            "Epoch [1/2], Loss: 0.1159\n",
            "Epoch [1/2], Loss: 0.0907\n",
            "Epoch [1/2], Loss: 0.0568\n",
            "Epoch [1/2], Loss: 0.1031\n",
            "Epoch [1/2], Loss: 0.3850\n",
            "Epoch [1/2], Loss: 0.0888\n",
            "Epoch [1/2], Loss: 0.1280\n",
            "Epoch [1/2], Loss: 0.0349\n",
            "Epoch [1/2], Loss: 0.0200\n",
            "Epoch [1/2], Loss: 0.0956\n",
            "Epoch [1/2], Loss: 0.7068\n",
            "Epoch [1/2], Loss: 0.0020\n",
            "Epoch [1/2], Loss: 0.1557\n",
            "Epoch [1/2], Loss: 0.1113\n",
            "Epoch [1/2], Loss: 0.0928\n",
            "Epoch [1/2], Loss: 0.0161\n",
            "Epoch [1/2], Loss: 0.0536\n",
            "Epoch [1/2], Loss: 0.1266\n",
            "Epoch [1/2], Loss: 0.1896\n",
            "Epoch [1/2], Loss: 0.0472\n",
            "Epoch [1/2], Loss: 0.4489\n",
            "Epoch [2/2], Loss: 0.0639\n",
            "Epoch [2/2], Loss: 0.2708\n",
            "Epoch [2/2], Loss: 0.4668\n",
            "Epoch [2/2], Loss: 0.0131\n",
            "Epoch [2/2], Loss: 0.0916\n",
            "Epoch [2/2], Loss: 0.0455\n",
            "Epoch [2/2], Loss: 0.1443\n",
            "Epoch [2/2], Loss: 0.3484\n",
            "Epoch [2/2], Loss: 0.0390\n",
            "Epoch [2/2], Loss: 0.1406\n",
            "Epoch [2/2], Loss: 0.0791\n",
            "Epoch [2/2], Loss: 0.0545\n",
            "Epoch [2/2], Loss: 0.0761\n",
            "Epoch [2/2], Loss: 0.0322\n",
            "Epoch [2/2], Loss: 0.1556\n",
            "Epoch [2/2], Loss: 0.0089\n",
            "Epoch [2/2], Loss: 0.1026\n",
            "Epoch [2/2], Loss: 0.0135\n",
            "Epoch [2/2], Loss: 0.3768\n",
            "Epoch [2/2], Loss: 0.0073\n",
            "Epoch [2/2], Loss: 0.0112\n",
            "Epoch [2/2], Loss: 0.0164\n",
            "Epoch [2/2], Loss: 0.1319\n",
            "Epoch [2/2], Loss: 0.3010\n",
            "Epoch [2/2], Loss: 0.2126\n",
            "Epoch [2/2], Loss: 0.0848\n",
            "Epoch [2/2], Loss: 0.0021\n",
            "Epoch [2/2], Loss: 0.1771\n",
            "Epoch [2/2], Loss: 0.0509\n",
            "Epoch [2/2], Loss: 0.1257\n",
            "Epoch [2/2], Loss: 0.2364\n",
            "Epoch [2/2], Loss: 0.2531\n",
            "Epoch [2/2], Loss: 0.0072\n",
            "Epoch [2/2], Loss: 0.0895\n",
            "Epoch [2/2], Loss: 0.0026\n",
            "Epoch [2/2], Loss: 0.0290\n",
            "Epoch [2/2], Loss: 0.3094\n"
          ]
        }
      ]
    },
    {
      "cell_type": "markdown",
      "source": [
        "## Test the model"
      ],
      "metadata": {
        "id": "DJtdpX5XQH7l"
      }
    },
    {
      "cell_type": "code",
      "source": [
        "# In test phase, we don't need to compute gradients (for memory efficiency)\n",
        "with torch.no_grad():\n",
        "    n_correct = 0\n",
        "    n_samples = 0\n",
        "    for images, labels in test_loader:\n",
        "        images = images.reshape(-1, 28*28).to(device)\n",
        "        labels = labels.to(device)\n",
        "        outputs = model(images)\n",
        "        # max returns (value ,index)\n",
        "        _, predicted = torch.max(outputs.data, 1)\n",
        "        n_samples += labels.size(0)\n",
        "        n_correct += (predicted == labels).sum().item()\n",
        "\n",
        "    acc = 100.0 * n_correct / n_samples\n",
        "    print(f'Accuracy of the network on the 10000 test images: {acc} %')"
      ],
      "metadata": {
        "colab": {
          "base_uri": "https://localhost:8080/"
        },
        "id": "V06y8gbrKYIC",
        "outputId": "d90c9cea-a0c0-4153-fc30-a557cd115f0c"
      },
      "execution_count": 47,
      "outputs": [
        {
          "output_type": "stream",
          "name": "stdout",
          "text": [
            "Accuracy of the network on the 10000 test images: 97.64 %\n"
          ]
        }
      ]
    },
    {
      "cell_type": "markdown",
      "source": [
        "## Saving and loading models"
      ],
      "metadata": {
        "id": "2jG9BSotRM-d"
      }
    },
    {
      "cell_type": "code",
      "source": [
        "torch.save(model.state_dict(), 'model_weights.pth')"
      ],
      "metadata": {
        "id": "QNFs4X5XRQ3I"
      },
      "execution_count": 48,
      "outputs": []
    },
    {
      "cell_type": "code",
      "source": [
        "model.load_state_dict(torch.load('model_weights.pth'))"
      ],
      "metadata": {
        "colab": {
          "base_uri": "https://localhost:8080/"
        },
        "id": "iJvZDx5dRW_p",
        "outputId": "cd5add3a-53d7-4bb4-be6f-7dfd99bdef8f"
      },
      "execution_count": 49,
      "outputs": [
        {
          "output_type": "execute_result",
          "data": {
            "text/plain": [
              "<All keys matched successfully>"
            ]
          },
          "metadata": {},
          "execution_count": 49
        }
      ]
    },
    {
      "cell_type": "markdown",
      "source": [
        "## Extra reading\n",
        "\n",
        "https://pytorch.org/tutorials/beginner/basics/tensorqs_tutorial.html\n",
        "\n",
        "https://pytorch.org/tutorials/beginner/basics/data_tutorial.html\n",
        "\n",
        "https://pytorch.org/tutorials/beginner/basics/transforms_tutorial.html\n",
        "\n",
        "https://pytorch.org/tutorials/beginner/basics/autogradqs_tutorial.html\n",
        "\n",
        "https://pytorch.org/tutorials/beginner/basics/buildmodel_tutorial.html\n",
        "\n",
        "https://pytorch.org/tutorials/beginner/basics/optimization_tutorial.html"
      ],
      "metadata": {
        "id": "T8zx-Lx-QNDD"
      }
    },
    {
      "cell_type": "code",
      "source": [],
      "metadata": {
        "id": "tdPHkhJQLXhf"
      },
      "execution_count": 49,
      "outputs": []
    }
  ]
}